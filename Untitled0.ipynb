{
  "nbformat": 4,
  "nbformat_minor": 0,
  "metadata": {
    "colab": {
      "provenance": [],
      "toc_visible": true,
      "authorship_tag": "ABX9TyOJLV6diq3A15KG3L3RY9Rv",
      "include_colab_link": true
    },
    "kernelspec": {
      "name": "python3",
      "display_name": "Python 3"
    },
    "language_info": {
      "name": "python"
    }
  },
  "cells": [
    {
      "cell_type": "markdown",
      "metadata": {
        "id": "view-in-github",
        "colab_type": "text"
      },
      "source": [
        "<a href=\"https://colab.research.google.com/github/thaylonmayk/Poc-Gemini-Imersao-Alura/blob/main/Untitled0.ipynb\" target=\"_parent\"><img src=\"https://colab.research.google.com/assets/colab-badge.svg\" alt=\"Open In Colab\"/></a>"
      ]
    },
    {
      "cell_type": "code",
      "execution_count": null,
      "metadata": {
        "id": "J2XvIJZLI_-g"
      },
      "outputs": [],
      "source": [
        "!sudo apt install tesseract-ocr\n",
        "!pip install pytesseract\n",
        "!pip install -U -q google-generativeai\n",
        "!python -m spacy download pt_core_news_sm\n",
        "!pip install numpy"
      ]
    },
    {
      "cell_type": "code",
      "source": [
        "import pytesseract\n",
        "from PIL import Image\n",
        "import spacy\n",
        "from sklearn.cluster import KMeans\n",
        "from sklearn.feature_extraction.text import TfidfVectorizer\n",
        "import numpy as np\n",
        "import google.generativeai as genai\n",
        "import io\n",
        "import en_core_web_sm\n",
        "\n",
        "# Configure a sua chave de API do Google Cloud\n",
        "from google.colab import userdata\n",
        "genai_key = userdata.get('genaiKey')\n",
        "genai.configure(api_key=genai_key)\n",
        "\n",
        "# Carregar modelo de linguagem para PNL\n",
        "#nlp = spacy.load('pt_core_news_sm')\n",
        "nlp = en_core_web_sm.load()\n",
        "\n",
        "def extrair_dados_nota(imagem):\n",
        "    # Ler a imagem utilizando BytesIO\n",
        "    imagem = Image.open(io.BytesIO(imagem))\n",
        "\n",
        "    texto = pytesseract.image_to_string(imagem, lang='por')\n",
        "\n",
        "    # Corrigir erros de OCR com Gemini\n",
        "    response = genai.generate_text(\n",
        "        model=\"gemini-1.0-pro\",\n",
        "        prompt=texto,\n",
        "        temperature=0.1,\n",
        "        max_output_tokens=len(texto),\n",
        "    )\n",
        "    texto_corrigido = response.result\n",
        "\n",
        "    # Analisar o texto corrigido com PNL\n",
        "    doc = nlp(texto_corrigido)\n",
        "\n",
        "    dados_produtos = []\n",
        "    for entidade in doc.ents:\n",
        "        if entidade.label_ == \"MONEY\":\n",
        "            produto = [token.text for token in entidade.sent if token.dep_ in [\"nsubj\", \"nmod\"]]\n",
        "            if produto:\n",
        "                dados_produtos.append((\" \".join(produto), entidade.text))\n",
        "    return dados_produtos\n",
        "\n",
        "def categorizar_produtos(dados_produtos):\n",
        "    produtos = [produto for produto, _ in dados_produtos]\n",
        "\n",
        "    vectorizer = TfidfVectorizer()\n",
        "    tfidf = vectorizer.fit_transform(produtos)\n",
        "\n",
        "    num_clusters = 3\n",
        "    kmeans = KMeans(n_clusters=num_clusters)\n",
        "    kmeans.fit(tfidf)\n",
        "\n",
        "    categorias = {i: [] for i in range(num_clusters)}\n",
        "    for i, label in enumerate(kmeans.labels_):\n",
        "        categorias[label].append(produtos[i])\n",
        "\n",
        "    return categorias\n",
        "\n",
        "def detectar_anomalias(dados_produtos, limite_superior=100):\n",
        "    anomalias = []\n",
        "    for produto, preco in dados_produtos:\n",
        "        preco = float(preco.replace(',', '.'))\n",
        "        if preco > limite_superior:\n",
        "            anomalias.append((produto, preco))\n",
        "    return anomalias\n",
        "\n",
        "def responder_pergunta(pergunta, dados_produtos):\n",
        "    contexto = [\n",
        "        f\"{produto}: R$ {preco.replace(',', '.')}\" for produto, preco in dados_produtos\n",
        "    ]\n",
        "\n",
        "    response = genai.generate_text(\n",
        "        model=\"gemini-1.0-pro\",\n",
        "        prompt=f\"{pergunta}\\nContexto: {' '.join(contexto)}\",\n",
        "        temperature=0.7,\n",
        "        max_output_tokens=100,\n",
        "    )\n",
        "    return response.result\n",
        "\n",
        "# Exemplo de uso:\n",
        "\n",
        "# Receber a imagem (exemplo com upload de arquivo)\n",
        "imagem = None\n",
        "while imagem is None:\n",
        "    try:\n",
        "        imagem_path = input(\"Digite o caminho para a imagem da nota fiscal: \")\n",
        "        with open(imagem_path, \"rb\") as imagem_file:\n",
        "            imagem = imagem_file.read()\n",
        "    except FileNotFoundError:\n",
        "        print(\"Arquivo não encontrado. Tente novamente.\")\n",
        "\n",
        "dados_produtos = extrair_dados_nota(imagem)\n",
        "\n",
        "# Categorizar produtos\n",
        "categorias = categorizar_produtos(dados_produtos)\n",
        "print(\"\\nCategorias de Produtos:\")\n",
        "for categoria, produtos in categorias.items():\n",
        "    print(f\"Categoria {categoria + 1}: {', '.join(produtos)}\")\n",
        "\n",
        "# Detectar anomalias\n",
        "anomalias = detectar_anomalias(dados_produtos)\n",
        "if anomalias:\n",
        "    print(\"\\nAnomalias Detectadas:\")\n",
        "    for produto, preco in anomalias:\n",
        "        print(f\"- {produto}: R$ {preco:.2f}\")\n",
        "\n",
        "# Interface de Chatbot\n",
        "while True:\n",
        "    pergunta = input(\"\\nFaça uma pergunta sobre a nota fiscal: \")\n",
        "    if pergunta.lower() == \"sair\":\n",
        "        break\n",
        "    resposta = responder_pergunta(pergunta, dados_produtos)\n",
        "    print(f\"Resposta: {resposta}\")"
      ],
      "metadata": {
        "colab": {
          "base_uri": "https://localhost:8080/",
          "height": 373
        },
        "id": "-Sqx7sObJS16",
        "outputId": "1aec3a3e-02f5-400a-d83d-1999bbf3986d"
      },
      "execution_count": 13,
      "outputs": [
        {
          "output_type": "error",
          "ename": "KeyboardInterrupt",
          "evalue": "Interrupted by user",
          "traceback": [
            "\u001b[0;31m---------------------------------------------------------------------------\u001b[0m",
            "\u001b[0;31mKeyboardInterrupt\u001b[0m                         Traceback (most recent call last)",
            "\u001b[0;32m<ipython-input-13-627e88ae89f4>\u001b[0m in \u001b[0;36m<cell line: 87>\u001b[0;34m()\u001b[0m\n\u001b[1;32m     87\u001b[0m \u001b[0;32mwhile\u001b[0m \u001b[0mimagem\u001b[0m \u001b[0;32mis\u001b[0m \u001b[0;32mNone\u001b[0m\u001b[0;34m:\u001b[0m\u001b[0;34m\u001b[0m\u001b[0;34m\u001b[0m\u001b[0m\n\u001b[1;32m     88\u001b[0m     \u001b[0;32mtry\u001b[0m\u001b[0;34m:\u001b[0m\u001b[0;34m\u001b[0m\u001b[0;34m\u001b[0m\u001b[0m\n\u001b[0;32m---> 89\u001b[0;31m         \u001b[0mimagem_path\u001b[0m \u001b[0;34m=\u001b[0m \u001b[0minput\u001b[0m\u001b[0;34m(\u001b[0m\u001b[0;34m\"Digite o caminho para a imagem da nota fiscal: \"\u001b[0m\u001b[0;34m)\u001b[0m\u001b[0;34m\u001b[0m\u001b[0;34m\u001b[0m\u001b[0m\n\u001b[0m\u001b[1;32m     90\u001b[0m         \u001b[0;32mwith\u001b[0m \u001b[0mopen\u001b[0m\u001b[0;34m(\u001b[0m\u001b[0mimagem_path\u001b[0m\u001b[0;34m,\u001b[0m \u001b[0;34m\"rb\"\u001b[0m\u001b[0;34m)\u001b[0m \u001b[0;32mas\u001b[0m \u001b[0mimagem_file\u001b[0m\u001b[0;34m:\u001b[0m\u001b[0;34m\u001b[0m\u001b[0;34m\u001b[0m\u001b[0m\n\u001b[1;32m     91\u001b[0m             \u001b[0mimagem\u001b[0m \u001b[0;34m=\u001b[0m \u001b[0mimagem_file\u001b[0m\u001b[0;34m.\u001b[0m\u001b[0mread\u001b[0m\u001b[0;34m(\u001b[0m\u001b[0;34m)\u001b[0m\u001b[0;34m\u001b[0m\u001b[0;34m\u001b[0m\u001b[0m\n",
            "\u001b[0;32m/usr/local/lib/python3.10/dist-packages/ipykernel/kernelbase.py\u001b[0m in \u001b[0;36mraw_input\u001b[0;34m(self, prompt)\u001b[0m\n\u001b[1;32m    849\u001b[0m                 \u001b[0;34m\"raw_input was called, but this frontend does not support input requests.\"\u001b[0m\u001b[0;34m\u001b[0m\u001b[0;34m\u001b[0m\u001b[0m\n\u001b[1;32m    850\u001b[0m             )\n\u001b[0;32m--> 851\u001b[0;31m         return self._input_request(str(prompt),\n\u001b[0m\u001b[1;32m    852\u001b[0m             \u001b[0mself\u001b[0m\u001b[0;34m.\u001b[0m\u001b[0m_parent_ident\u001b[0m\u001b[0;34m,\u001b[0m\u001b[0;34m\u001b[0m\u001b[0;34m\u001b[0m\u001b[0m\n\u001b[1;32m    853\u001b[0m             \u001b[0mself\u001b[0m\u001b[0;34m.\u001b[0m\u001b[0m_parent_header\u001b[0m\u001b[0;34m,\u001b[0m\u001b[0;34m\u001b[0m\u001b[0;34m\u001b[0m\u001b[0m\n",
            "\u001b[0;32m/usr/local/lib/python3.10/dist-packages/ipykernel/kernelbase.py\u001b[0m in \u001b[0;36m_input_request\u001b[0;34m(self, prompt, ident, parent, password)\u001b[0m\n\u001b[1;32m    893\u001b[0m             \u001b[0;32mexcept\u001b[0m \u001b[0mKeyboardInterrupt\u001b[0m\u001b[0;34m:\u001b[0m\u001b[0;34m\u001b[0m\u001b[0;34m\u001b[0m\u001b[0m\n\u001b[1;32m    894\u001b[0m                 \u001b[0;31m# re-raise KeyboardInterrupt, to truncate traceback\u001b[0m\u001b[0;34m\u001b[0m\u001b[0;34m\u001b[0m\u001b[0m\n\u001b[0;32m--> 895\u001b[0;31m                 \u001b[0;32mraise\u001b[0m \u001b[0mKeyboardInterrupt\u001b[0m\u001b[0;34m(\u001b[0m\u001b[0;34m\"Interrupted by user\"\u001b[0m\u001b[0;34m)\u001b[0m \u001b[0;32mfrom\u001b[0m \u001b[0;32mNone\u001b[0m\u001b[0;34m\u001b[0m\u001b[0;34m\u001b[0m\u001b[0m\n\u001b[0m\u001b[1;32m    896\u001b[0m             \u001b[0;32mexcept\u001b[0m \u001b[0mException\u001b[0m \u001b[0;32mas\u001b[0m \u001b[0me\u001b[0m\u001b[0;34m:\u001b[0m\u001b[0;34m\u001b[0m\u001b[0;34m\u001b[0m\u001b[0m\n\u001b[1;32m    897\u001b[0m                 \u001b[0mself\u001b[0m\u001b[0;34m.\u001b[0m\u001b[0mlog\u001b[0m\u001b[0;34m.\u001b[0m\u001b[0mwarning\u001b[0m\u001b[0;34m(\u001b[0m\u001b[0;34m\"Invalid Message:\"\u001b[0m\u001b[0;34m,\u001b[0m \u001b[0mexc_info\u001b[0m\u001b[0;34m=\u001b[0m\u001b[0;32mTrue\u001b[0m\u001b[0;34m)\u001b[0m\u001b[0;34m\u001b[0m\u001b[0;34m\u001b[0m\u001b[0m\n",
            "\u001b[0;31mKeyboardInterrupt\u001b[0m: Interrupted by user"
          ]
        }
      ]
    }
  ]
}